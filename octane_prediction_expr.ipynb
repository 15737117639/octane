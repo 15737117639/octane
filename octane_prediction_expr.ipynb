{
 "cells": [
  {
   "cell_type": "code",
   "execution_count": 1,
   "metadata": {
    "collapsed": true
   },
   "outputs": [],
   "source": [
    "import csv"
   ]
  },
  {
   "cell_type": "code",
   "execution_count": 142,
   "metadata": {
    "collapsed": true
   },
   "outputs": [],
   "source": [
    "# import numerical python extension\n",
    "import numpy as np"
   ]
  },
  {
   "cell_type": "code",
   "execution_count": 3,
   "metadata": {
    "collapsed": true
   },
   "outputs": [],
   "source": [
    "# import chemoinformatics utils\n",
    "from rdkit.Chem import (\n",
    "    MolFromSmiles,\n",
    "    rdmolops\n",
    ")"
   ]
  },
  {
   "cell_type": "code",
   "execution_count": 4,
   "metadata": {},
   "outputs": [
    {
     "name": "stderr",
     "output_type": "stream",
     "text": [
      "Using TensorFlow backend.\n"
     ]
    }
   ],
   "source": [
    "# import all the keras stuff (tensorflow backend however)\n",
    "from keras.models import Sequential\n",
    "from keras.layers import Dense, Dropout, Activation, Flatten\n",
    "from keras.layers import Conv2D, MaxPooling2D\n",
    "from keras import optimizers"
   ]
  },
  {
   "cell_type": "code",
   "execution_count": 199,
   "metadata": {
    "collapsed": true
   },
   "outputs": [],
   "source": [
    "def get_molecules_train_data(c_atoms, file_name='data\\data_set.csv'):\n",
    "    # adj matrices\n",
    "    x_train = []\n",
    "    # expreminetal values\n",
    "    y_train = []\n",
    "    try:\n",
    "        with open(file_name) as data_set:\n",
    "            csv_reader = csv.reader(data_set, delimiter='\\t')\n",
    "            # skip header\n",
    "            next(csv_reader, None)\n",
    "            for row in csv_reader:\n",
    "                smiles_structure, ron, mon = row\n",
    "                mol = MolFromSmiles(smiles_structure)\n",
    "                # lets assume only C in structure\n",
    "#                 if mol.GetNumAtoms() != c_atoms:\n",
    "#                     continue\n",
    "                adj_matrix = rdmolops.GetAdjacencyMatrix(mol, useBO=True)\n",
    "                x_train.append(adj_matrix / 2)\n",
    "                y_train.append(float(ron))\n",
    "    except FileNotFoundError:\n",
    "        raise\n",
    "    return x_train, y_train"
   ]
  },
  {
   "cell_type": "code",
   "execution_count": 200,
   "metadata": {},
   "outputs": [],
   "source": [
    "# get train data\n",
    "magic_carbon_number=15\n",
    "x_train__, y_train = get_molecules_train_data(magic_carbon_number)\n",
    "x_train = []\n",
    "for xx in x_train__:\n",
    "    xx = np.pad(xx, ((0, magic_carbon_number-len(xx[0])), (0, magic_carbon_number-len(xx[0]))), mode='constant', constant_values=0)\n",
    "    x_train.append(xx)\n",
    "x_train = np.array(x_train).reshape(len(x_train), 1, magic_carbon_number, magic_carbon_number)"
   ]
  },
  {
   "cell_type": "code",
   "execution_count": 201,
   "metadata": {
    "collapsed": true
   },
   "outputs": [],
   "source": [
    "# build the model\n",
    "model = Sequential()\n",
    "\n",
    "model.add(Conv2D(32, (3, 3), activation='relu', input_shape=(1, magic_carbon_number, magic_carbon_number)))\n",
    "model.add(MaxPooling2D(pool_size=(2,2)))\n",
    "\n",
    "model.add(Flatten())\n",
    "model.add(Dense(64, activation='relu'))\n",
    "model.add(Dense(800, activation='relu'))\n",
    "model.add(Dropout(0.25))\n",
    "model.add(Dense(1))"
   ]
  },
  {
   "cell_type": "code",
   "execution_count": 202,
   "metadata": {
    "collapsed": true
   },
   "outputs": [],
   "source": [
    "# compile model\n",
    "rms = optimizers.RMSprop(lr=0.001, rho=0.9, epsilon=1e-08, decay=0.0)\n",
    "model.compile(loss='mean_squared_error',\n",
    "              optimizer=rms,\n",
    "              metrics=['mean_squared_error'])"
   ]
  },
  {
   "cell_type": "code",
   "execution_count": 219,
   "metadata": {},
   "outputs": [
    {
     "name": "stdout",
     "output_type": "stream",
     "text": [
      "Epoch 1/100\n",
      "66/66 [==============================] - 0s - loss: 45.1515 - mean_squared_error: 45.1515     \n",
      "Epoch 2/100\n",
      "66/66 [==============================] - 0s - loss: 60.2993 - mean_squared_error: 60.2993     \n",
      "Epoch 3/100\n",
      "66/66 [==============================] - 0s - loss: 43.4706 - mean_squared_error: 43.4706     \n",
      "Epoch 4/100\n",
      "66/66 [==============================] - 0s - loss: 43.0126 - mean_squared_error: 43.0126     \n",
      "Epoch 5/100\n",
      "66/66 [==============================] - 0s - loss: 44.9339 - mean_squared_error: 44.9339     \n",
      "Epoch 6/100\n",
      "66/66 [==============================] - 0s - loss: 29.9589 - mean_squared_error: 29.9589     \n",
      "Epoch 7/100\n",
      "66/66 [==============================] - 0s - loss: 41.0985 - mean_squared_error: 41.0985     \n",
      "Epoch 8/100\n",
      "66/66 [==============================] - 0s - loss: 34.5102 - mean_squared_error: 34.5102     \n",
      "Epoch 9/100\n",
      "66/66 [==============================] - 0s - loss: 63.7856 - mean_squared_error: 63.7856      ETA: 0s - loss: 65.5487 - mean_squared_error: 65.\n",
      "Epoch 10/100\n",
      "66/66 [==============================] - 0s - loss: 34.8712 - mean_squared_error: 34.8712     \n",
      "Epoch 11/100\n",
      "66/66 [==============================] - 0s - loss: 18.9623 - mean_squared_error: 18.9623     \n",
      "Epoch 12/100\n",
      "66/66 [==============================] - 0s - loss: 45.5907 - mean_squared_error: 45.5907     \n",
      "Epoch 13/100\n",
      "66/66 [==============================] - 0s - loss: 44.2976 - mean_squared_error: 44.2976     \n",
      "Epoch 14/100\n",
      "66/66 [==============================] - 0s - loss: 48.6486 - mean_squared_error: 48.6486     \n",
      "Epoch 15/100\n",
      "66/66 [==============================] - 0s - loss: 39.7650 - mean_squared_error: 39.7650     \n",
      "Epoch 16/100\n",
      "66/66 [==============================] - 0s - loss: 56.4489 - mean_squared_error: 56.4489     \n",
      "Epoch 17/100\n",
      "66/66 [==============================] - 0s - loss: 20.8728 - mean_squared_error: 20.8728     \n",
      "Epoch 18/100\n",
      "66/66 [==============================] - 0s - loss: 23.4316 - mean_squared_error: 23.4316     \n",
      "Epoch 19/100\n",
      "66/66 [==============================] - 0s - loss: 34.5900 - mean_squared_error: 34.5900     \n",
      "Epoch 20/100\n",
      "66/66 [==============================] - 0s - loss: 40.3189 - mean_squared_error: 40.3189     \n",
      "Epoch 21/100\n",
      "66/66 [==============================] - 0s - loss: 38.0080 - mean_squared_error: 38.0080      ETA: 0s - loss: 38.7412 - mean_squared_error: 38.74\n",
      "Epoch 22/100\n",
      "66/66 [==============================] - 0s - loss: 53.3423 - mean_squared_error: 53.3423     \n",
      "Epoch 23/100\n",
      "66/66 [==============================] - 0s - loss: 30.7021 - mean_squared_error: 30.7021     \n",
      "Epoch 24/100\n",
      "66/66 [==============================] - 0s - loss: 36.8989 - mean_squared_error: 36.8989     \n",
      "Epoch 25/100\n",
      "66/66 [==============================] - 0s - loss: 36.0701 - mean_squared_error: 36.0701     \n",
      "Epoch 26/100\n",
      "66/66 [==============================] - 0s - loss: 74.5280 - mean_squared_error: 74.5280     \n",
      "Epoch 27/100\n",
      "66/66 [==============================] - 0s - loss: 28.8706 - mean_squared_error: 28.8706     \n",
      "Epoch 28/100\n",
      "66/66 [==============================] - 0s - loss: 45.6083 - mean_squared_error: 45.6083     \n",
      "Epoch 29/100\n",
      "66/66 [==============================] - 0s - loss: 45.4401 - mean_squared_error: 45.4401     \n",
      "Epoch 30/100\n",
      "66/66 [==============================] - 0s - loss: 42.3964 - mean_squared_error: 42.3964     \n",
      "Epoch 31/100\n",
      "66/66 [==============================] - 0s - loss: 28.3801 - mean_squared_error: 28.3801     \n",
      "Epoch 32/100\n",
      "66/66 [==============================] - 0s - loss: 64.8576 - mean_squared_error: 64.8576     \n",
      "Epoch 33/100\n",
      "66/66 [==============================] - 0s - loss: 21.0218 - mean_squared_error: 21.0218     \n",
      "Epoch 34/100\n",
      "66/66 [==============================] - 0s - loss: 50.2161 - mean_squared_error: 50.2161     \n",
      "Epoch 35/100\n",
      "66/66 [==============================] - 0s - loss: 18.9786 - mean_squared_error: 18.9786     \n",
      "Epoch 36/100\n",
      "66/66 [==============================] - 0s - loss: 61.2535 - mean_squared_error: 61.2535     \n",
      "Epoch 37/100\n",
      "66/66 [==============================] - 0s - loss: 46.6042 - mean_squared_error: 46.6042     \n",
      "Epoch 38/100\n",
      "66/66 [==============================] - 0s - loss: 28.6483 - mean_squared_error: 28.6483     \n",
      "Epoch 39/100\n",
      "66/66 [==============================] - 0s - loss: 52.5639 - mean_squared_error: 52.5639     \n",
      "Epoch 40/100\n",
      "66/66 [==============================] - 0s - loss: 28.3563 - mean_squared_error: 28.3563     \n",
      "Epoch 41/100\n",
      "66/66 [==============================] - 0s - loss: 50.2741 - mean_squared_error: 50.2741      - ETA: 0s - loss: 72.8421 - mean_squared_error: 72.84\n",
      "Epoch 42/100\n",
      "66/66 [==============================] - 0s - loss: 38.5345 - mean_squared_error: 38.5345     \n",
      "Epoch 43/100\n",
      "66/66 [==============================] - 0s - loss: 41.6764 - mean_squared_error: 41.6764     \n",
      "Epoch 44/100\n",
      "66/66 [==============================] - ETA: 0s - loss: 25.8432 - mean_squared_error: 25.84 - 0s - loss: 25.7003 - mean_squared_error: 25.7003     \n",
      "Epoch 45/100\n",
      "66/66 [==============================] - 0s - loss: 60.7201 - mean_squared_error: 60.7201     \n",
      "Epoch 46/100\n",
      "66/66 [==============================] - 0s - loss: 17.8330 - mean_squared_error: 17.8330     \n",
      "Epoch 47/100\n",
      "66/66 [==============================] - 0s - loss: 66.0804 - mean_squared_error: 66.0804     \n",
      "Epoch 48/100\n",
      "66/66 [==============================] - 0s - loss: 21.5366 - mean_squared_error: 21.5366     \n",
      "Epoch 49/100\n",
      "66/66 [==============================] - 0s - loss: 55.9217 - mean_squared_error: 55.9217     \n",
      "Epoch 50/100\n",
      "66/66 [==============================] - 0s - loss: 28.8548 - mean_squared_error: 28.8548     \n",
      "Epoch 51/100\n",
      "66/66 [==============================] - 0s - loss: 54.3571 - mean_squared_error: 54.3571     \n",
      "Epoch 52/100\n",
      "66/66 [==============================] - 0s - loss: 30.8152 - mean_squared_error: 30.8152     \n",
      "Epoch 53/100\n",
      "66/66 [==============================] - 0s - loss: 57.8929 - mean_squared_error: 57.8929     \n",
      "Epoch 54/100\n",
      "66/66 [==============================] - 0s - loss: 19.9232 - mean_squared_error: 19.9232     \n",
      "Epoch 55/100\n",
      "66/66 [==============================] - 0s - loss: 69.5165 - mean_squared_error: 69.5165     \n",
      "Epoch 56/100\n",
      "66/66 [==============================] - 0s - loss: 20.3950 - mean_squared_error: 20.3950      ETA: 0s - loss: 19.0506 - mean_squared_error: 19.05\n",
      "Epoch 57/100\n",
      "66/66 [==============================] - 0s - loss: 34.2458 - mean_squared_error: 34.2458     \n",
      "Epoch 58/100\n",
      "66/66 [==============================] - 0s - loss: 54.5927 - mean_squared_error: 54.5927     \n",
      "Epoch 59/100\n",
      "66/66 [==============================] - 0s - loss: 27.2326 - mean_squared_error: 27.2326     \n",
      "Epoch 60/100\n",
      "66/66 [==============================] - 0s - loss: 34.6452 - mean_squared_error: 34.6452     \n",
      "Epoch 61/100\n",
      "66/66 [==============================] - 0s - loss: 44.5916 - mean_squared_error: 44.5916     \n",
      "Epoch 62/100\n",
      "66/66 [==============================] - 0s - loss: 42.3001 - mean_squared_error: 42.3001     \n",
      "Epoch 63/100\n",
      "66/66 [==============================] - 0s - loss: 36.8400 - mean_squared_error: 36.8400     \n",
      "Epoch 64/100\n",
      "66/66 [==============================] - 0s - loss: 47.8943 - mean_squared_error: 47.8943     \n",
      "Epoch 65/100\n",
      "66/66 [==============================] - 0s - loss: 17.3091 - mean_squared_error: 17.3091     \n",
      "Epoch 66/100\n",
      "66/66 [==============================] - 0s - loss: 67.6075 - mean_squared_error: 67.6075      ETA: 0s - loss: 65.3039 - mean_squared_error: 65.\n",
      "Epoch 67/100\n",
      "66/66 [==============================] - 0s - loss: 23.1476 - mean_squared_error: 23.1476     \n",
      "Epoch 68/100\n",
      "66/66 [==============================] - 0s - loss: 51.5667 - mean_squared_error: 51.5667     \n",
      "Epoch 69/100\n",
      "66/66 [==============================] - 0s - loss: 27.9211 - mean_squared_error: 27.9211     \n",
      "Epoch 70/100\n",
      "66/66 [==============================] - 0s - loss: 37.4799 - mean_squared_error: 37.4799     \n",
      "Epoch 71/100\n",
      "66/66 [==============================] - 0s - loss: 21.9103 - mean_squared_error: 21.9103     \n",
      "Epoch 72/100\n",
      "66/66 [==============================] - 0s - loss: 16.7891 - mean_squared_error: 16.7891     \n",
      "Epoch 73/100\n",
      "66/66 [==============================] - 0s - loss: 84.3482 - mean_squared_error: 84.3482     \n",
      "Epoch 74/100\n"
     ]
    },
    {
     "name": "stdout",
     "output_type": "stream",
     "text": [
      "66/66 [==============================] - 0s - loss: 20.3808 - mean_squared_error: 20.3808     \n",
      "Epoch 75/100\n",
      "66/66 [==============================] - 0s - loss: 33.1730 - mean_squared_error: 33.1730     \n",
      "Epoch 76/100\n",
      "66/66 [==============================] - 0s - loss: 57.7775 - mean_squared_error: 57.7775     \n",
      "Epoch 77/100\n",
      "66/66 [==============================] - 0s - loss: 40.8859 - mean_squared_error: 40.8859     \n",
      "Epoch 78/100\n",
      "66/66 [==============================] - 0s - loss: 46.8398 - mean_squared_error: 46.8398     \n",
      "Epoch 79/100\n",
      "66/66 [==============================] - 0s - loss: 49.3013 - mean_squared_error: 49.3013     \n",
      "Epoch 80/100\n",
      "66/66 [==============================] - 0s - loss: 21.0573 - mean_squared_error: 21.0573     \n",
      "Epoch 81/100\n",
      "66/66 [==============================] - 0s - loss: 40.4618 - mean_squared_error: 40.4618     \n",
      "Epoch 82/100\n",
      "66/66 [==============================] - 0s - loss: 21.2344 - mean_squared_error: 21.2344      ETA: 0s - loss: 23.1577 - mean_squared_error: 23.\n",
      "Epoch 83/100\n",
      "66/66 [==============================] - 0s - loss: 48.7922 - mean_squared_error: 48.7922     \n",
      "Epoch 84/100\n",
      "66/66 [==============================] - 0s - loss: 37.1956 - mean_squared_error: 37.1956     \n",
      "Epoch 85/100\n",
      "66/66 [==============================] - 0s - loss: 31.1079 - mean_squared_error: 31.1079     \n",
      "Epoch 86/100\n",
      "66/66 [==============================] - 0s - loss: 64.7258 - mean_squared_error: 64.7258     \n",
      "Epoch 87/100\n",
      "66/66 [==============================] - 0s - loss: 22.6565 - mean_squared_error: 22.6565     \n",
      "Epoch 88/100\n",
      "66/66 [==============================] - 0s - loss: 35.7709 - mean_squared_error: 35.7709     \n",
      "Epoch 89/100\n",
      "66/66 [==============================] - 0s - loss: 66.4647 - mean_squared_error: 66.4647     \n",
      "Epoch 90/100\n",
      "66/66 [==============================] - 0s - loss: 40.2078 - mean_squared_error: 40.2078     \n",
      "Epoch 91/100\n",
      "66/66 [==============================] - 0s - loss: 26.5696 - mean_squared_error: 26.5696     \n",
      "Epoch 92/100\n",
      "66/66 [==============================] - 0s - loss: 35.1653 - mean_squared_error: 35.1653     \n",
      "Epoch 93/100\n",
      "66/66 [==============================] - 0s - loss: 49.5007 - mean_squared_error: 49.5007     \n",
      "Epoch 94/100\n",
      "66/66 [==============================] - 0s - loss: 33.0248 - mean_squared_error: 33.0248     \n",
      "Epoch 95/100\n",
      "66/66 [==============================] - 0s - loss: 41.6606 - mean_squared_error: 41.6606     \n",
      "Epoch 96/100\n",
      "66/66 [==============================] - 0s - loss: 40.7896 - mean_squared_error: 40.7896     \n",
      "Epoch 97/100\n",
      "66/66 [==============================] - 0s - loss: 30.8309 - mean_squared_error: 30.8309     \n",
      "Epoch 98/100\n",
      "66/66 [==============================] - 0s - loss: 37.6179 - mean_squared_error: 37.6179     \n",
      "Epoch 99/100\n",
      "66/66 [==============================] - 0s - loss: 19.6493 - mean_squared_error: 19.6493     \n",
      "Epoch 100/100\n",
      "66/66 [==============================] - 0s - loss: 54.9582 - mean_squared_error: 54.9582     \n"
     ]
    },
    {
     "data": {
      "text/plain": [
       "<keras.callbacks.History at 0x263a2a4ecc0>"
      ]
     },
     "execution_count": 219,
     "metadata": {},
     "output_type": "execute_result"
    }
   ],
   "source": [
    "model.fit(x_train, y_train,\n",
    "          batch_size=8, epochs=100, verbose=1)"
   ]
  },
  {
   "cell_type": "code",
   "execution_count": 221,
   "metadata": {
    "scrolled": true
   },
   "outputs": [
    {
     "name": "stdout",
     "output_type": "stream",
     "text": [
      "pred: 112.101 expr: 120.0 error: 6.58221562703 %\n",
      "pred: 96.5521 expr: 99.0 error: 2.47263282236 %\n",
      "pred: 93.4516 expr: 96.6 error: 3.25922995621 %\n",
      "pred: 90.3945 expr: 89.1 error: 1.45281139849 %\n",
      "pred: 92.6499 expr: 97.0 error: 4.48461316296 %\n",
      "pred: 63.8808 expr: 63.2 error: 1.07718841939 %\n",
      "pred: 87.8628 expr: 89.7 error: 2.04819389012 %\n",
      "pred: 83.2459 expr: 80.2 error: 3.79782698101 %\n",
      "pred: 29.2443 expr: 26.0 error: 12.4780581548 %\n",
      "pred: 72.7688 expr: 73.3 error: 0.724684232579 %\n",
      "pred: 77.232 expr: 73.5 error: 5.07752295254 %\n",
      "pred: 93.8922 expr: 94.2 error: 0.326714647297 %\n",
      "pred: 95.8744 expr: 93.4 error: 2.6492966319 %\n",
      "pred: 71.5147 expr: 69.3 error: 3.19580694642 %\n",
      "pred: 53.9623 expr: 55.0 error: 1.88664523038 %\n",
      "pred: 46.8625 expr: 46.4 error: 0.996699826471 %\n",
      "pred: 89.735 expr: 88.5 error: 1.3954550533 %\n",
      "pred: 85.8536 expr: 83.8 error: 2.45065074547 %\n",
      "pred: 91.7579 expr: 86.6 error: 5.955982869 %\n",
      "pred: 94.3398 expr: 95.6 error: 1.31825083968 %\n",
      "pred: 102.246 expr: 101.3 error: 0.933831865437 %\n",
      "pred: 52.9738 expr: 52.4 error: 1.09500302613 %\n",
      "pred: 33.2871 expr: 35.0 error: 4.89392961775 %\n",
      "pred: 41.4564 expr: 39.0 error: 6.29853468675 %\n",
      "pred: 25.363 expr: 23.8 error: 6.56707026377 %\n",
      "pred: 81.9737 expr: 81.7 error: 0.335035942759 %\n",
      "pred: 90.1798 expr: 88.1 error: 2.36074597016 %\n",
      "pred: 90.5676 expr: 88.7 error: 2.10548581507 %\n",
      "pred: 79.1835 expr: 78.9 error: 0.35927002572 %\n",
      "pred: 74.176 expr: 69.9 error: 6.11735768243 %\n",
      "pred: 60.9775 expr: 55.7 error: 9.47493548025 %\n",
      "pred: 81.4795 expr: 83.4 error: 2.30277630923 %\n",
      "pred: 79.5818 expr: 77.4 error: 2.81891539423 %\n",
      "pred: 99.3428 expr: 95.9 error: 3.59000165221 %\n",
      "pred: 101.964 expr: 99.4 error: 2.57949675593 %\n",
      "pred: 102.116 expr: 99.9 error: 2.21852101125 %\n",
      "pred: 93.0677 expr: 91.6 error: 1.60228779222 %\n",
      "pred: 98.8689 expr: 96.6 error: 2.34878571631 %\n",
      "pred: 93.3417 expr: 91.6 error: 1.90145001141 %\n",
      "pred: 99.6269 expr: 96.6 error: 3.13340497066 %\n",
      "pred: 62.8132 expr: 60.5 error: 3.82341747442 %\n",
      "pred: 100.959 expr: 99.5 error: 1.46642330304 %\n",
      "pred: -17.1493 expr: -20.0 error: -14.2533397675 %\n",
      "pred: -37.2639 expr: -40.0 error: -6.84018135071 %\n",
      "pred: 77.2453 expr: 75.6 error: 2.17627267989 %\n",
      "pred: 85.1138 expr: 84.9 error: 0.251807762119 %\n",
      "pred: 83.9576 expr: 79.9 error: 5.07831406384 %\n",
      "pred: 93.1403 expr: 99.9 error: 6.76642371131 %\n",
      "pred: 90.7964 expr: 90.3 error: 0.549683090328 %\n",
      "pred: 76.5039 expr: 77.1 error: 0.773193121884 %\n",
      "pred: 87.8639 expr: 87.8 error: 0.0727607883462 %\n",
      "pred: 83.2086 expr: 81.9 error: 1.59779642964 %\n",
      "pred: 91.9888 expr: 97.5 error: 5.65252842047 %\n",
      "pred: 87.5154 expr: 84.7 error: 3.32397136666 %\n",
      "pred: 64.6463 expr: 63.4 error: 1.96573877184 %\n",
      "pred: 79.9307 expr: 80.8 error: 1.07587304446 %\n",
      "pred: 81.3097 expr: 80.1 error: 1.51018006971 %\n",
      "pred: 79.7231 expr: 81.5 error: 2.18027501019 %\n",
      "pred: 81.5069 expr: 81.2 error: 0.377961332575 %\n",
      "pred: 78.3595 expr: 80.9 error: 3.14025313067 %\n",
      "pred: 83.5526 expr: 83.0 error: 0.665788765413 %\n",
      "pred: 82.6896 expr: 81.0 error: 2.08594239788 %\n",
      "pred: 88.0747 expr: 85.1 error: 3.49552499702 %\n",
      "pred: 82.9278 expr: 84.3 error: 1.62778155235 %\n",
      "mean acc: 3.08466801218 %\n"
     ]
    }
   ],
   "source": [
    "s = []\n",
    "predicted = []\n",
    "expected = []\n",
    "for p, y in zip(model.predict(x_train), y_train):\n",
    "    predicted.append(p)\n",
    "    expected.append(y)\n",
    "    if y != 0:\n",
    "        print('pred:', p[0], 'expr:', y, 'error:', (abs(y-p[0])*100/y), '%')\n",
    "        s.append(abs(y-p[0])*100/y)\n",
    "print('mean acc:', np.mean(np.abs(s)), '%')"
   ]
  },
  {
   "cell_type": "code",
   "execution_count": 245,
   "metadata": {},
   "outputs": [
    {
     "name": "stdout",
     "output_type": "stream",
     "text": [
      "[[[[ 0.   1.   0.   0.   0.   0.   0.   0.   0.   0.   0.   0.   0.   0.\n",
      "     0. ]\n",
      "   [ 1.   0.   0.5  0.   0.   0.   0.   0.   0.   0.   0.   0.   0.   0.\n",
      "     0. ]\n",
      "   [ 0.   0.5  0.   1.   0.   0.   0.   0.   0.   0.   0.   0.   0.   0.\n",
      "     0. ]\n",
      "   [ 0.   0.   1.   0.   0.   0.   0.   0.   0.   0.   0.   0.   0.   0.\n",
      "     0. ]\n",
      "   [ 0.   0.   0.   0.   0.   0.   0.   0.   0.   0.   0.   0.   0.   0.\n",
      "     0. ]\n",
      "   [ 0.   0.   0.   0.   0.   0.   0.   0.   0.   0.   0.   0.   0.   0.\n",
      "     0. ]\n",
      "   [ 0.   0.   0.   0.   0.   0.   0.   0.   0.   0.   0.   0.   0.   0.\n",
      "     0. ]\n",
      "   [ 0.   0.   0.   0.   0.   0.   0.   0.   0.   0.   0.   0.   0.   0.\n",
      "     0. ]\n",
      "   [ 0.   0.   0.   0.   0.   0.   0.   0.   0.   0.   0.   0.   0.   0.\n",
      "     0. ]\n",
      "   [ 0.   0.   0.   0.   0.   0.   0.   0.   0.   0.   0.   0.   0.   0.\n",
      "     0. ]\n",
      "   [ 0.   0.   0.   0.   0.   0.   0.   0.   0.   0.   0.   0.   0.   0.\n",
      "     0. ]\n",
      "   [ 0.   0.   0.   0.   0.   0.   0.   0.   0.   0.   0.   0.   0.   0.\n",
      "     0. ]\n",
      "   [ 0.   0.   0.   0.   0.   0.   0.   0.   0.   0.   0.   0.   0.   0.\n",
      "     0. ]\n",
      "   [ 0.   0.   0.   0.   0.   0.   0.   0.   0.   0.   0.   0.   0.   0.\n",
      "     0. ]\n",
      "   [ 0.   0.   0.   0.   0.   0.   0.   0.   0.   0.   0.   0.   0.   0.\n",
      "     0. ]]]]\n"
     ]
    }
   ],
   "source": [
    "x_ = [rdmolops.GetAdjacencyMatrix(MolFromSmiles('C=C-C=C'), useBO=True) / 2]\n",
    "x = []\n",
    "for xx in x_:\n",
    "    xx = np.pad(xx, ((0, magic_carbon_number-len(xx[0])), (0, magic_carbon_number-len(xx[0]))), mode='constant', constant_values=0)\n",
    "    x.append(xx)\n",
    "x = np.array(x).reshape(len(x), 1, magic_carbon_number, magic_carbon_number)\n",
    "print(x)"
   ]
  },
  {
   "cell_type": "code",
   "execution_count": 246,
   "metadata": {},
   "outputs": [
    {
     "data": {
      "text/plain": [
       "array([[ 97.66599274]], dtype=float32)"
      ]
     },
     "execution_count": 246,
     "metadata": {},
     "output_type": "execute_result"
    }
   ],
   "source": [
    "model.predict(x)"
   ]
  },
  {
   "cell_type": "code",
   "execution_count": 223,
   "metadata": {},
   "outputs": [
    {
     "data": {
      "image/png": "[encoded data removed]",
      "text/plain": [
       "<matplotlib.figure.Figure at 0x263a1ad3c50>"
      ]
     },
     "metadata": {},
     "output_type": "display_data"
    },
    {
     "data": {
      "image/png": "[encoded data removed]",
      "text/plain": [
       "<matplotlib.figure.Figure at 0x263a3c12eb8>"
      ]
     },
     "metadata": {},
     "output_type": "display_data"
    }
   ],
   "source": [
    "import matplotlib.pyplot as plt\n",
    "plt.plot(list(range(len(predicted))), predicted, 'r--', list(range(len(expected))), expected, 'g--')\n",
    "plt.show()\n",
    "plt.plot(predicted, expected, 'go', list(range(-40,120)), list(range(-40,120)), 'r--')\n",
    "plt.show()"
   ]
  },
  {
   "cell_type": "code",
   "execution_count": 237,
   "metadata": {
    "scrolled": true
   },
   "outputs": [
    {
     "name": "stdout",
     "output_type": "stream",
     "text": [
      "r-squared: 0.992778762993 std_err: 0.0108371089364 p_value: 2.98023673261e-70\n"
     ]
    }
   ],
   "source": [
    "from scipy import stats\n",
    "slope, intercept, r_value, p_value, std_err = stats.linregress([p[0] for p in predicted], expected)\n",
    "print (\"r-squared:\", r_value**2, \"std_err:\", std_err, \"p_value:\", p_value)"
   ]
  },
  {
   "cell_type": "code",
   "execution_count": null,
   "metadata": {
    "collapsed": true
   },
   "outputs": [],
   "source": []
  }
 ],
 "metadata": {
  "kernelspec": {
   "display_name": "my-rdkit-env",
   "language": "python",
   "name": "my-rdkit-env"
  }
 },
 "nbformat": 4,
 "nbformat_minor": 2
}
